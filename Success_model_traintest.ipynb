{
 "cells": [
  {
   "cell_type": "code",
   "execution_count": 10,
   "id": "8cad051c",
   "metadata": {},
   "outputs": [],
   "source": [
    "import pandas as pd\n",
    "import cv2\n",
    "import numpy as np\n",
    "import os\n",
    "import tensorflow as tf\n",
    "from tensorflow import keras\n",
    "from random import shuffle\n",
    "from tqdm import tqdm\n",
    "from sklearn.model_selection import train_test_split\n",
    "import seaborn as sns\n",
    "from sklearn.metrics import confusion_matrix\n",
    "from mlxtend.plotting import plot_confusion_matrix\n",
    "from keras.models import Sequential\n",
    "from keras.layers import Dense, Activation, Dropout, Flatten, Conv2D, MaxPooling2D, BatchNormalization\n",
    "from keras.optimizers import Adam\n",
    "from keras.callbacks import ReduceLROnPlateau, ModelCheckpoint\n",
    "import matplotlib.pyplot as plt\n"
   ]
  },
  {
   "cell_type": "code",
   "execution_count": 11,
   "id": "18002684",
   "metadata": {},
   "outputs": [],
   "source": [
    "# Set the path to the dataset directory\n",
    "DATASET_DIR = \"C:/Users/Nurul Nadiah/OneDrive - Universiti Teknologi MARA/Desktop/FYP/cancer/dataset\""
   ]
  },
  {
   "cell_type": "markdown",
   "id": "f615e28e",
   "metadata": {},
   "source": [
    "<h1>Pre Processing</h1>"
   ]
  },
  {
   "cell_type": "code",
   "execution_count": 12,
   "id": "46f76c76",
   "metadata": {},
   "outputs": [
    {
     "name": "stderr",
     "output_type": "stream",
     "text": [
      "100%|██████████| 2483/2483 [00:47<00:00, 52.83it/s]\n",
      "100%|██████████| 2483/2483 [00:47<00:00, 52.05it/s]\n"
     ]
    }
   ],
   "source": [
    "# Preprocessing\n",
    "def get_data(directory):\n",
    "    X = []\n",
    "    y = []\n",
    "    classes = ['NORMAL', 'CANCER']\n",
    "\n",
    "    for class_name in classes:\n",
    "        class_dir = os.path.join(directory, class_name)\n",
    "        class_label = classes.index(class_name)\n",
    "\n",
    "        for file in tqdm(os.listdir(class_dir)):\n",
    "            if not file.startswith('.'):\n",
    "                img_path = os.path.join(class_dir, file)\n",
    "                img = cv2.imread(img_path)\n",
    "                if img is not None:\n",
    "                    img = cv2.cvtColor(img, cv2.COLOR_BGR2RGB)\n",
    "                    img = cv2.resize(img, (150, 150))\n",
    "                    X.append(img)\n",
    "                    y.append(class_label)\n",
    "\n",
    "    X = np.array(X)\n",
    "    y = np.array(y)\n",
    "    return X, y\n",
    "\n",
    "X, y = get_data(os.path.join(DATASET_DIR, 'train'))\n"
   ]
  },
  {
   "cell_type": "markdown",
   "id": "d260dd12",
   "metadata": {},
   "source": [
    "<h2>splitting training and testing data</h2>"
   ]
  },
  {
   "cell_type": "code",
   "execution_count": 13,
   "id": "04141aec",
   "metadata": {},
   "outputs": [],
   "source": [
    "# Split the data into training and testing sets\n",
    "X_train, X_test, y_train, y_test = train_test_split(X, y, test_size=0.2, random_state=42)\n"
   ]
  },
  {
   "cell_type": "code",
   "execution_count": 14,
   "id": "73be1678",
   "metadata": {},
   "outputs": [],
   "source": [
    "# Normalize pixel values\n",
    "X_train = X_train / 255.0\n",
    "X_test = X_test / 255.0"
   ]
  },
  {
   "cell_type": "code",
   "execution_count": 15,
   "id": "dac901ef",
   "metadata": {},
   "outputs": [],
   "source": [
    "# Convert labels to categorical\n",
    "num_classes = 2\n",
    "y_train = keras.utils.to_categorical(y_train, num_classes)\n",
    "y_test = keras.utils.to_categorical(y_test, num_classes)"
   ]
  },
  {
   "cell_type": "markdown",
   "id": "1f478b88",
   "metadata": {},
   "source": [
    "<h1>Working with CNN</h1>"
   ]
  },
  {
   "cell_type": "code",
   "execution_count": 16,
   "id": "4abb6761",
   "metadata": {},
   "outputs": [
    {
     "name": "stderr",
     "output_type": "stream",
     "text": [
      "C:\\Users\\Nurul Nadiah\\anaconda3\\lib\\site-packages\\keras\\optimizers\\legacy\\adam.py:117: UserWarning: The `lr` argument is deprecated, use `learning_rate` instead.\n",
      "  super().__init__(name, **kwargs)\n"
     ]
    }
   ],
   "source": [
    "# Define the model architecture\n",
    "model = Sequential()\n",
    "model.add(Conv2D(32, (3, 3), activation='relu', input_shape=(150, 150, 3)))\n",
    "model.add(MaxPooling2D(pool_size=(2, 2)))\n",
    "model.add(Conv2D(64, (3, 3), activation='relu'))\n",
    "model.add(MaxPooling2D(pool_size=(2, 2)))\n",
    "model.add(Conv2D(128, (3, 3), activation='relu'))\n",
    "model.add(MaxPooling2D(pool_size=(2, 2)))\n",
    "model.add(Flatten())\n",
    "model.add(Dense(64, activation='relu'))\n",
    "model.add(Dropout(0.5))\n",
    "model.add(Dense(num_classes, activation='softmax'))\n",
    "\n",
    "# Compile the model\n",
    "model.compile(loss='categorical_crossentropy', optimizer=Adam(lr=0.0001), metrics=['accuracy'])\n"
   ]
  },
  {
   "cell_type": "code",
   "execution_count": 17,
   "id": "cb3b89e6",
   "metadata": {},
   "outputs": [],
   "source": [
    "# Define callbacks\n",
    "lr_reduce = ReduceLROnPlateau(monitor='val_accuracy', factor=0.1, patience=3, verbose=1)\n",
    "checkpoint = ModelCheckpoint('best_model.h5', monitor='val_accuracy', save_best_only=True, mode='max')\n"
   ]
  },
  {
   "cell_type": "markdown",
   "id": "75cb7b47",
   "metadata": {},
   "source": [
    "<h1>Classification</h1>"
   ]
  },
  {
   "cell_type": "code",
   "execution_count": 18,
   "id": "b1c95126",
   "metadata": {},
   "outputs": [
    {
     "name": "stdout",
     "output_type": "stream",
     "text": [
      "Epoch 1/20\n",
      "125/125 [==============================] - 107s 837ms/step - loss: 0.6941 - accuracy: 0.5181 - val_loss: 0.6839 - val_accuracy: 0.6730 - lr: 1.0000e-04\n",
      "Epoch 2/20\n",
      "125/125 [==============================] - 93s 748ms/step - loss: 0.6497 - accuracy: 0.6407 - val_loss: 0.5534 - val_accuracy: 0.7867 - lr: 1.0000e-04\n",
      "Epoch 3/20\n",
      "125/125 [==============================] - 96s 768ms/step - loss: 0.4810 - accuracy: 0.7764 - val_loss: 0.3717 - val_accuracy: 0.8421 - lr: 1.0000e-04\n",
      "Epoch 4/20\n",
      "125/125 [==============================] - 95s 758ms/step - loss: 0.4045 - accuracy: 0.8303 - val_loss: 0.3294 - val_accuracy: 0.8541 - lr: 1.0000e-04\n",
      "Epoch 5/20\n",
      "125/125 [==============================] - 99s 794ms/step - loss: 0.3577 - accuracy: 0.8530 - val_loss: 0.2993 - val_accuracy: 0.8642 - lr: 1.0000e-04\n",
      "Epoch 6/20\n",
      "125/125 [==============================] - 87s 696ms/step - loss: 0.3319 - accuracy: 0.8620 - val_loss: 0.2832 - val_accuracy: 0.8712 - lr: 1.0000e-04\n",
      "Epoch 7/20\n",
      "125/125 [==============================] - 97s 775ms/step - loss: 0.3065 - accuracy: 0.8683 - val_loss: 0.3050 - val_accuracy: 0.8561 - lr: 1.0000e-04\n",
      "Epoch 8/20\n",
      "125/125 [==============================] - 91s 726ms/step - loss: 0.2936 - accuracy: 0.8759 - val_loss: 0.2464 - val_accuracy: 0.8954 - lr: 1.0000e-04\n",
      "Epoch 9/20\n",
      "125/125 [==============================] - 93s 745ms/step - loss: 0.2737 - accuracy: 0.8857 - val_loss: 0.2475 - val_accuracy: 0.8964 - lr: 1.0000e-04\n",
      "Epoch 10/20\n",
      "125/125 [==============================] - 97s 777ms/step - loss: 0.2645 - accuracy: 0.8900 - val_loss: 0.2328 - val_accuracy: 0.8763 - lr: 1.0000e-04\n",
      "Epoch 11/20\n",
      "125/125 [==============================] - 92s 734ms/step - loss: 0.2386 - accuracy: 0.8927 - val_loss: 0.1963 - val_accuracy: 0.9024 - lr: 1.0000e-04\n",
      "Epoch 12/20\n",
      "125/125 [==============================] - 90s 723ms/step - loss: 0.2163 - accuracy: 0.9096 - val_loss: 0.2882 - val_accuracy: 0.8893 - lr: 1.0000e-04\n",
      "Epoch 13/20\n",
      "125/125 [==============================] - 83s 664ms/step - loss: 0.2175 - accuracy: 0.9038 - val_loss: 0.2203 - val_accuracy: 0.9175 - lr: 1.0000e-04\n",
      "Epoch 14/20\n",
      "125/125 [==============================] - 83s 665ms/step - loss: 0.1839 - accuracy: 0.9277 - val_loss: 0.1497 - val_accuracy: 0.9386 - lr: 1.0000e-04\n",
      "Epoch 15/20\n",
      "125/125 [==============================] - 87s 697ms/step - loss: 0.1702 - accuracy: 0.9310 - val_loss: 0.1693 - val_accuracy: 0.9215 - lr: 1.0000e-04\n",
      "Epoch 16/20\n",
      "125/125 [==============================] - 85s 677ms/step - loss: 0.1638 - accuracy: 0.9303 - val_loss: 0.1553 - val_accuracy: 0.9406 - lr: 1.0000e-04\n",
      "Epoch 17/20\n",
      "125/125 [==============================] - 84s 673ms/step - loss: 0.1323 - accuracy: 0.9494 - val_loss: 0.1165 - val_accuracy: 0.9628 - lr: 1.0000e-04\n",
      "Epoch 18/20\n",
      "125/125 [==============================] - 84s 673ms/step - loss: 0.1260 - accuracy: 0.9512 - val_loss: 0.0997 - val_accuracy: 0.9678 - lr: 1.0000e-04\n",
      "Epoch 19/20\n",
      "125/125 [==============================] - 94s 750ms/step - loss: 0.1086 - accuracy: 0.9600 - val_loss: 0.1142 - val_accuracy: 0.9598 - lr: 1.0000e-04\n",
      "Epoch 20/20\n",
      "125/125 [==============================] - 88s 703ms/step - loss: 0.0948 - accuracy: 0.9648 - val_loss: 0.0901 - val_accuracy: 0.9708 - lr: 1.0000e-04\n"
     ]
    }
   ],
   "source": [
    "# Train the model\n",
    "batch_size = 32\n",
    "epochs = 20\n",
    "\n",
    "#classification\n",
    "history = model.fit(X_train, y_train, batch_size=batch_size, epochs=epochs,\n",
    "                    validation_data=(X_test, y_test), callbacks=[lr_reduce, checkpoint])\n"
   ]
  },
  {
   "cell_type": "code",
   "execution_count": 19,
   "id": "f2b1b231",
   "metadata": {},
   "outputs": [
    {
     "name": "stdout",
     "output_type": "stream",
     "text": [
      "32/32 [==============================] - 5s 166ms/step - loss: 0.0901 - accuracy: 0.9708\n",
      "Test Loss: 0.09009073674678802\n",
      "Test Accuracy: 0.9708249568939209\n"
     ]
    }
   ],
   "source": [
    "# Evaluate the model\n",
    "loss, accuracy = model.evaluate(X_test, y_test)\n",
    "print(\"Test Loss:\", loss)\n",
    "print(\"Test Accuracy:\", accuracy)"
   ]
  },
  {
   "cell_type": "code",
   "execution_count": 20,
   "id": "f4673e8b",
   "metadata": {},
   "outputs": [
    {
     "data": {
      "image/png": "[encoded data removed]",
      "text/plain": [
       "<Figure size 432x288 with 1 Axes>"
      ]
     },
     "metadata": {
      "needs_background": "light"
     },
     "output_type": "display_data"
    }
   ],
   "source": [
    "# Plot the accuracy and loss curves\n",
    "import matplotlib.pyplot as plt\n",
    "\n",
    "plt.plot(history.history['accuracy'])\n",
    "plt.plot(history.history['val_accuracy'])\n",
    "plt.title('Model Accuracy')\n",
    "plt.ylabel('Accuracy')\n",
    "plt.xlabel('Epoch')\n",
    "plt.legend(['Train', 'Test'], loc='upper left')\n",
    "plt.show()"
   ]
  },
  {
   "cell_type": "code",
   "execution_count": 21,
   "id": "bcd8e622",
   "metadata": {},
   "outputs": [
    {
     "data": {
      "image/png": "[encoded data removed]",
      "text/plain": [
       "<Figure size 432x288 with 1 Axes>"
      ]
     },
     "metadata": {
      "needs_background": "light"
     },
     "output_type": "display_data"
    }
   ],
   "source": [
    "plt.plot(history.history['loss'])\n",
    "plt.plot(history.history['val_loss'])\n",
    "plt.title('Model Loss')\n",
    "plt.ylabel('Loss')\n",
    "plt.xlabel('Epoch')\n",
    "plt.legend(['Train', 'Test'], loc='upper left')\n",
    "plt.show()"
   ]
  },
  {
   "cell_type": "markdown",
   "id": "6fd1cb9f",
   "metadata": {},
   "source": [
    "<h1>Confusion Matrix</h1>"
   ]
  },
  {
   "cell_type": "code",
   "execution_count": 24,
   "id": "3a694f23",
   "metadata": {},
   "outputs": [
    {
     "name": "stdout",
     "output_type": "stream",
     "text": [
      "32/32 [==============================] - 5s 153ms/step\n"
     ]
    }
   ],
   "source": [
    "from sklearn.metrics import confusion_matrix\n",
    "pred = model.predict(X_test)\n",
    "pred = np.argmax(pred,axis = 1) \n",
    "y_true = np.argmax(y_test,axis = 1)"
   ]
  },
  {
   "cell_type": "code",
   "execution_count": 25,
   "id": "2e6adbfb",
   "metadata": {},
   "outputs": [
    {
     "data": {
      "text/plain": [
       "array([[482,  20],\n",
       "       [  9, 483]], dtype=int64)"
      ]
     },
     "execution_count": 25,
     "metadata": {},
     "output_type": "execute_result"
    }
   ],
   "source": [
    "cnf = confusion_matrix(y_true, pred )\n",
    "np.set_printoptions(precision=2)\n",
    "cnf"
   ]
  },
  {
   "cell_type": "code",
   "execution_count": 26,
   "id": "69329e6d",
   "metadata": {},
   "outputs": [
    {
     "name": "stdout",
     "output_type": "stream",
     "text": [
      "Accuracy Score : 0.9708249496981891\n"
     ]
    }
   ],
   "source": [
    "from sklearn.metrics import accuracy_score\n",
    "print ('Accuracy Score :',accuracy_score(y_true, pred)) "
   ]
  },
  {
   "cell_type": "code",
   "execution_count": 27,
   "id": "2a3e05e3",
   "metadata": {},
   "outputs": [
    {
     "name": "stdout",
     "output_type": "stream",
     "text": [
      "              precision    recall  f1-score   support\n",
      "\n",
      "           0       0.98      0.96      0.97       502\n",
      "           1       0.96      0.98      0.97       492\n",
      "\n",
      "    accuracy                           0.97       994\n",
      "   macro avg       0.97      0.97      0.97       994\n",
      "weighted avg       0.97      0.97      0.97       994\n",
      "\n"
     ]
    }
   ],
   "source": [
    "from sklearn.metrics import classification_report\n",
    "print(classification_report(y_true, pred))"
   ]
  },
  {
   "cell_type": "code",
   "execution_count": 28,
   "id": "b9b874c5",
   "metadata": {},
   "outputs": [],
   "source": [
    "from sklearn.metrics import precision_recall_curve\n",
    "\n",
    "precision , recall , thresolds = precision_recall_curve(y_true, pred)"
   ]
  },
  {
   "cell_type": "code",
   "execution_count": 29,
   "id": "d3bc8ad6",
   "metadata": {},
   "outputs": [
    {
     "data": {
      "text/plain": [
       "array([0.49, 0.96, 1.  ])"
      ]
     },
     "execution_count": 29,
     "metadata": {},
     "output_type": "execute_result"
    }
   ],
   "source": [
    "precision "
   ]
  },
  {
   "cell_type": "code",
   "execution_count": 30,
   "id": "241b1d3d",
   "metadata": {},
   "outputs": [
    {
     "data": {
      "text/plain": [
       "array([1.  , 0.98, 0.  ])"
      ]
     },
     "execution_count": 30,
     "metadata": {},
     "output_type": "execute_result"
    }
   ],
   "source": [
    "recall"
   ]
  },
  {
   "cell_type": "code",
   "execution_count": 31,
   "id": "b650f7ce",
   "metadata": {},
   "outputs": [
    {
     "data": {
      "text/plain": [
       "array([0, 1], dtype=int64)"
      ]
     },
     "execution_count": 31,
     "metadata": {},
     "output_type": "execute_result"
    }
   ],
   "source": [
    "thresolds"
   ]
  },
  {
   "cell_type": "code",
   "execution_count": 33,
   "id": "f0293171",
   "metadata": {},
   "outputs": [
    {
     "name": "stdout",
     "output_type": "stream",
     "text": [
      "32/32 [==============================] - 5s 145ms/step\n"
     ]
    }
   ],
   "source": [
    "# Generate predictions\n",
    "y_pred = model.predict(X_test)\n",
    "y_pred = np.argmax(y_pred, axis=1)\n",
    "y_true = np.argmax(y_test, axis=1)\n"
   ]
  },
  {
   "cell_type": "code",
   "execution_count": 34,
   "id": "635d781a",
   "metadata": {
    "scrolled": true
   },
   "outputs": [
    {
     "data": {
      "image/png": "[encoded data removed]",
      "text/plain": [
       "<Figure size 432x432 with 1 Axes>"
      ]
     },
     "metadata": {
      "needs_background": "light"
     },
     "output_type": "display_data"
    }
   ],
   "source": [
    "# Calculate and plot the confusion matrix\n",
    "cm = confusion_matrix(y_true, y_pred)\n",
    "plot_confusion_matrix(conf_mat=cm, figsize=(6, 6), show_absolute=True, show_normed=True)\n",
    "plt.show()"
   ]
  },
  {
   "cell_type": "markdown",
   "id": "69911e1f",
   "metadata": {},
   "source": [
    "<h1>Test prediction</h1>"
   ]
  },
  {
   "cell_type": "code",
   "execution_count": 35,
   "id": "0d30d5c4",
   "metadata": {},
   "outputs": [],
   "source": [
    "from keras.models import load_model\n",
    "from PIL import Image\n",
    "import numpy as np"
   ]
  },
  {
   "cell_type": "code",
   "execution_count": 36,
   "id": "7299346a",
   "metadata": {},
   "outputs": [],
   "source": [
    "# Load the trained model\n",
    "model = load_model('best_model.h5')"
   ]
  },
  {
   "cell_type": "code",
   "execution_count": 74,
   "id": "242b1bea",
   "metadata": {},
   "outputs": [],
   "source": [
    "# Load and preprocess the test image\n",
    "img_path = 'cancer/val/Cancer/_2_4392.jpeg'\n",
    "img = Image.open(img_path)\n",
    "img = img.resize((150, 150))\n",
    "img = np.array(img) / 255.0\n",
    "img = np.expand_dims(img, axis=0)\n"
   ]
  },
  {
   "cell_type": "code",
   "execution_count": 75,
   "id": "fef36bb0",
   "metadata": {},
   "outputs": [
    {
     "name": "stdout",
     "output_type": "stream",
     "text": [
      "1/1 [==============================] - 0s 30ms/step\n"
     ]
    }
   ],
   "source": [
    "# Make predictions\n",
    "probs = model.predict(img)\n",
    "predicted_class = np.argmax(probs)"
   ]
  },
  {
   "cell_type": "code",
   "execution_count": 76,
   "id": "9c9cc476",
   "metadata": {},
   "outputs": [
    {
     "name": "stdout",
     "output_type": "stream",
     "text": [
      "Predicted Label: CANCER\n"
     ]
    }
   ],
   "source": [
    "# Map the predicted class index to the class label\n",
    "class_labels = ['NORMAL', 'CANCER']\n",
    "predicted_label = class_labels[predicted_class]\n",
    "\n",
    "# Display the predicted label\n",
    "print(\"Predicted Label:\", predicted_label)\n"
   ]
  },
  {
   "cell_type": "code",
   "execution_count": 77,
   "id": "846e6565",
   "metadata": {},
   "outputs": [],
   "source": [
    "# Load and preprocess the test image\n",
    "img_path = 'cancer/val/Normal/_5_1558.jpeg'\n",
    "img = Image.open(img_path)\n",
    "img = img.resize((150, 150))\n",
    "img = np.array(img) / 255.0\n",
    "img = np.expand_dims(img, axis=0)"
   ]
  },
  {
   "cell_type": "code",
   "execution_count": 78,
   "id": "54c3b49a",
   "metadata": {},
   "outputs": [
    {
     "name": "stdout",
     "output_type": "stream",
     "text": [
      "1/1 [==============================] - 0s 31ms/step\n"
     ]
    }
   ],
   "source": [
    "# Make predictions\n",
    "probs = model.predict(img)\n",
    "predicted_class = np.argmax(probs)"
   ]
  },
  {
   "cell_type": "code",
   "execution_count": 72,
   "id": "65dcad1a",
   "metadata": {},
   "outputs": [
    {
     "name": "stdout",
     "output_type": "stream",
     "text": [
      "Predicted Label: NORMAL\n"
     ]
    }
   ],
   "source": [
    "# Map the predicted class index to the class label\n",
    "class_labels = ['NORMAL', 'CANCER']\n",
    "predicted_label = class_labels[predicted_class]\n",
    "\n",
    "# Display the predicted label\n",
    "print(\"Predicted Label:\", predicted_label)"
   ]
  },
  {
   "cell_type": "code",
   "execution_count": null,
   "id": "c7aea83b",
   "metadata": {},
   "outputs": [],
   "source": []
  }
 ],
 "metadata": {
  "kernelspec": {
   "display_name": "Python 3 (ipykernel)",
   "language": "python",
   "name": "python3"
  },
  "language_info": {
   "codemirror_mode": {
    "name": "ipython",
    "version": 3
   },
   "file_extension": ".py",
   "mimetype": "text/x-python",
   "name": "python",
   "nbconvert_exporter": "python",
   "pygments_lexer": "ipython3",
   "version": "3.9.12"
  }
 },
 "nbformat": 4,
 "nbformat_minor": 5
}
